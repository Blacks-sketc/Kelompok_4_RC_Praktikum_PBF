{
  "nbformat": 4,
  "nbformat_minor": 0,
  "metadata": {
    "colab": {
      "provenance": []
    },
    "kernelspec": {
      "name": "python3",
      "display_name": "Python 3"
    },
    "language_info": {
      "name": "python"
    }
  },
  "cells": [
    {
      "cell_type": "code",
      "source": [
        "import heapq\n",
        "\n",
        "def jarak_terpendek(graph, mulai, tujuan):\n",
        "    # Periksa apakah node awal dan tujuan ada dalam graf\n",
        "    if mulai not in graph or tujuan not in graph:\n",
        "        raise ValueError(\"Node awal atau tujuan tidak ada dalam graf\")\n",
        "\n",
        "    # Kasus khusus jika node awal sama dengan node tujuan\n",
        "    if mulai == tujuan:\n",
        "        return 0, [mulai]\n",
        "\n",
        "    # Inisialisasi jarak dari setiap node ke node awal dengan nilai tak hingga\n",
        "    jarak = {node: float('inf') for node in graph}\n",
        "    jarak[mulai] = 0\n",
        "\n",
        "    # Inisialisasi antrian prioritas dengan tuple (jarak, node)\n",
        "    antrian_prioritas = [(0, mulai)]\n",
        "    jalur = {mulai: [mulai]}\n",
        "\n",
        "    while antrian_prioritas:\n",
        "        # Ambil node dengan jarak terpendek dari antrian prioritas\n",
        "        jarak_sekarang, node_sekarang = heapq.heappop(antrian_prioritas)\n",
        "\n",
        "        # Jika node sekarang adalah node tujuan, kembalikan jarak dan jalur\n",
        "        if node_sekarang == tujuan:\n",
        "            return jarak_sekarang, jalur[tujuan]\n",
        "\n",
        "        # Periksa setiap node yang terhubung dengan node_sekarang\n",
        "        for tetangga, bobot in graph[node_sekarang].items():\n",
        "            jarak_baru = jarak_sekarang + bobot\n",
        "            # Jika jarak baru lebih pendek, update jarak dan jalur\n",
        "            if jarak_baru < jarak[tetangga]:\n",
        "                jarak[tetangga] = jarak_baru\n",
        "                heapq.heappush(antrian_prioritas, (jarak_baru, tetangga))\n",
        "                jalur[tetangga] = jalur[node_sekarang] + [tetangga]\n",
        "\n",
        "    # Jika tidak ada jalur dari node awal ke node tujuan\n",
        "    return float('inf'), None\n",
        "\n",
        "# Contoh penggunaan\n",
        "graf = {\n",
        "    'A': {'B': 5, 'C': 3},\n",
        "    'B': {'D': 2},\n",
        "    'C': {'B': 1, 'D': 1},\n",
        "    'D': {'E': 3},\n",
        "    'E': {}\n",
        "}\n",
        "node_awal = 'A'\n",
        "node_tujuan = 'E'\n",
        "\n",
        "jarak_terpendek, jalur_terpendek = jarak_terpendek(graf, node_awal, node_tujuan)\n",
        "if jalur_terpendek:\n",
        "    print(\"Jarak terpendek dari\", node_awal, \"ke\", node_tujuan, \"adalah:\", jarak_terpendek)\n",
        "    print(\"Jalur terpendek:\", ' -> '.join(jalur_terpendek))\n",
        "else:\n",
        "    print(\"Tidak ada jalur yang tersedia dari\", node_awal, \"ke\", node_tujuan)\n"
      ],
      "metadata": {
        "id": "tgf81zNCGxw1",
        "outputId": "21634899-42cd-4f42-cafb-96838b888154",
        "colab": {
          "base_uri": "https://localhost:8080/"
        }
      },
      "execution_count": 3,
      "outputs": [
        {
          "output_type": "stream",
          "name": "stdout",
          "text": [
            "Jarak terpendek dari A ke E adalah: 7\n",
            "Jalur terpendek: A -> C -> D -> E\n"
          ]
        }
      ]
    }
  ]
}