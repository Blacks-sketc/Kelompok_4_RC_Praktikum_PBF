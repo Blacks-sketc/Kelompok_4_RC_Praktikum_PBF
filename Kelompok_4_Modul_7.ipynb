{
  "cells": [
    {
      "cell_type": "markdown",
      "metadata": {
        "id": "nxIPoIU4pyj_"
      },
      "source": [
        "# Kelompok 4 - Modul 7 PBF\n",
        "\n"
      ]
    },
    {
      "cell_type": "markdown",
      "metadata": {
        "id": "LG-zmM-BpjLy"
      },
      "source": [
        "# Tugas Kelompok\n",
        "\n",
        "## Pardi_122450132\n",
        "## Kartini_122450003\n",
        "## Siti_122450006\n",
        "## Elisabeth_122450123\n",
        "## Ahmad_122450138"
      ]
    },
    {
      "cell_type": "markdown",
      "metadata": {
        "id": "tHNOYtY8pjLz"
      },
      "source": [
        "Langkah dalam menyelesaikan tugas ini adalah:\n",
        "\n",
        "* Buatlah terlebih dahulu list dictionary yang kosong\n",
        "\n",
        "* Buatlah looping untuk melakukan kalkulasi dengan fungsi Map atau Filter atau Reduce kemudian simpan ke dalam list dictionary yang sudah di definisikan"
      ]
    },
    {
      "cell_type": "markdown",
      "source": [
        "## Baca Ringkasan Data"
      ],
      "metadata": {
        "id": "fOjI40sXKWFp"
      }
    },
    {
      "cell_type": "code",
      "execution_count": null,
      "metadata": {
        "colab": {
          "base_uri": "https://localhost:8080/"
        },
        "id": "TGoQXwrOAo5-",
        "outputId": "04c53392-9ef9-44ee-85b0-2a2665b59d41"
      },
      "outputs": [
        {
          "output_type": "stream",
          "name": "stdout",
          "text": [
            "           X          Y   incident_id agency               incident_address  \\\n",
            "0 -82.993989  42.410293  202306901627   DPD     Glenfield Ave & Gratiot Ave   \n",
            "1 -83.052792  42.415266  202306901629   DPD            Luce St & Fenelon St   \n",
            "2 -83.072103  42.368421  202306901630   DPD   W Baltimore St & Woodward Ave   \n",
            "3 -83.226541  42.429892  202306901632   DPD          Avon Ave & W 7 Mile Rd   \n",
            "4 -83.240073  42.409465  202306901633   DPD     Heyden St & Grand River Ave   \n",
            "\n",
            "   zip_code priority callcode             calldescription  category  ...  \\\n",
            "0     48213        3   W4807   START OF SHIFT INFORMATION  STRTSHFT  ...   \n",
            "1     48212        3   SA               SPECIAL ATTENTION  SPCL ATT  ...   \n",
            "2     48202        3   SA               SPECIAL ATTENTION  SPCL ATT  ...   \n",
            "3     48219        4   372040                 UDAA REPORT  UDAAREPT  ...   \n",
            "4     48219        3   SA               SPECIAL ATTENTION  SPCL ATT  ...   \n",
            "\n",
            "  traveltime totalresponsetime time_on_scene totaltime     neighborhood  \\\n",
            "0        0.0               0.0           7.6       7.7     Eden Gardens   \n",
            "1        0.0               0.0          22.8      22.8  Buffalo Charles   \n",
            "2        0.0               0.0          18.7      18.7       New Center   \n",
            "3        0.0               0.0           0.8       0.8      O'Hair Park   \n",
            "4        0.0               0.0           5.0       5.0     Miller Grove   \n",
            "\n",
            "       block_id  council_district  longitude   latitude  ObjectId  \n",
            "0  2.616350e+14               4.0 -82.993989  42.410293         1  \n",
            "1  2.616351e+14               3.0 -83.052792  42.415266         2  \n",
            "2  2.616353e+14               5.0 -83.072103  42.368421         3  \n",
            "3  2.616354e+14               1.0 -83.226541  42.429892         4  \n",
            "4  2.616354e+14               1.0 -83.240073  42.409465         5  \n",
            "\n",
            "[5 rows x 26 columns]\n"
          ]
        }
      ],
      "source": [
        "import pandas as pd\n",
        "\n",
        "# Path ke file Excel\n",
        "jalur_excel = '/content/911_Calls_for_Service_(Last_30_Days).csv'\n",
        "\n",
        "# Baca file CSV (bukan Excel) menggunakan pd.read_csv\n",
        "data_excel = pd.read_csv(jalur_excel)\n",
        "\n",
        "# Tampilkan lima baris pertama data\n",
        "print(data_excel.head())\n"
      ]
    },
    {
      "cell_type": "markdown",
      "metadata": {
        "id": "VC6Rx_4mpjLz"
      },
      "source": [
        "## Bagian 1: Model Populasi Polisi Detroit\n",
        "\n",
        "Baca data dari file Laporan Polisi Detroit menggunakan modul csv dan terjemahkan data ke dalam daftar dictionary. Menggunakan Filter dengan fungsi lambda untuk mengecualikan dictionary (baris CSV) yang memiliki data yang hilang di kolom Zip, atau kolom Neighborhood. Dengan menggunakan fungsi lambda dan Reduce, hitung total waktu respons rata-rata, waktu pengiriman rata-rata, dan total waktu rata-rata untuk kepolisian Detroit."
      ]
    },
    {
      "cell_type": "code",
      "execution_count": null,
      "metadata": {
        "colab": {
          "base_uri": "https://localhost:8080/"
        },
        "id": "MttGk7oY5SAZ",
        "outputId": "863b9a86-dfef-42fe-9666-ac12dc8bcb0d"
      },
      "outputs": [
        {
          "output_type": "stream",
          "name": "stdout",
          "text": [
            "{'neighborhood': 'DETROIT', 'rerata_waktu_respons': 8.336226605030683, 'rerata_waktu_pengiriman': 2.3334066254288293, 'rerata_total_waktu': 29.530862153463513}\n"
          ]
        }
      ],
      "source": [
        "import csv\n",
        "from functools import reduce\n",
        "\n",
        "# Fungsi untuk membaca file CSV dan memfilter baris yang lengkap\n",
        "def baca_csv_filter(nama_file):\n",
        "    with open(nama_file, 'r') as file:\n",
        "        pembaca = csv.DictReader(file)\n",
        "        data = filter(lambda x: x['zip_code'] != '' and x['neighborhood'] != '', pembaca)\n",
        "        return list(data)\n",
        "\n",
        "# Menghitung total waktu respons rata-rata, waktu pengiriman rata-rata, dan total waktu rata-rata\n",
        "def hitung_rerata(data):\n",
        "    total_waktu_respons = 0\n",
        "    total_waktu_pengiriman = 0\n",
        "    total_waktu = 0\n",
        "    jumlah_rekaman = 0\n",
        "\n",
        "    for baris in data:\n",
        "        try:\n",
        "            total_waktu_respons += float(baris['totalresponsetime'])\n",
        "            total_waktu_pengiriman += float(baris['traveltime'])\n",
        "            total_waktu += float(baris['totaltime'])\n",
        "            jumlah_rekaman += 1\n",
        "        except ValueError:\n",
        "            pass  # Tidak lakukan apa-apa jika terjadi kesalahan dalam konversi nilai ke float\n",
        "\n",
        "    if jumlah_rekaman == 0:\n",
        "        return {\n",
        "            'neighborhood': 'DETROIT',  # Tambahkan kunci neighborhood dengan nilai 'DETROIT'\n",
        "            'rerata_waktu_respons': 0,\n",
        "            'rerata_waktu_pengiriman': 0,\n",
        "            'rerata_total_waktu': 0\n",
        "        }\n",
        "\n",
        "    return {\n",
        "        'neighborhood': 'DETROIT',  # Tambahkan kunci neighborhood dengan nilai 'DETROIT'\n",
        "        'rerata_waktu_respons': total_waktu_respons / jumlah_rekaman,\n",
        "        'rerata_waktu_pengiriman': total_waktu_pengiriman / jumlah_rekaman,\n",
        "        'rerata_total_waktu': total_waktu / jumlah_rekaman\n",
        "    }\n",
        "\n",
        "\n",
        "\n",
        "# Path file CSV\n",
        "path_csv = \"/content/911_Calls_for_Service_(Last_30_Days).csv\"\n",
        "\n",
        "# Baca file CSV dan filter data\n",
        "data_terfilter = baca_csv_filter(path_csv)\n",
        "\n",
        "# Hitung rata-rata waktu respons, waktu pengiriman, dan total waktu\n",
        "hasil_part1 = hitung_rerata(data_terfilter)\n",
        "print(hasil_part1)\n"
      ]
    },
    {
      "cell_type": "markdown",
      "metadata": {
        "id": "uSVT4i5IpjL0"
      },
      "source": [
        "## Bagian 2: Modelkan Neighborhood Samples\n",
        "\n",
        "Menggunakan fungsi lambda dan map, atau lambda dan Filter, bagi list dictionary menjadi list dictionary yang lebih kecil yang dipisahkan oleh neighborhood. Dengan menggunakan lambda dan Reduce, temukan total waktu respons rata-rata untuk setiap neighborhood, waktu pengiriman rata-rata untuk setiap neighborhood, dan total waktu rata-rata untuk setiap neighborhood dan simpanlah ke dalam list dictionary. Tambahkan item dictioanary untuk menyertakan data populasi untuk semua Detroit dalam daftar gabungan Anda."
      ]
    },
    {
      "cell_type": "code",
      "execution_count": null,
      "metadata": {
        "colab": {
          "base_uri": "https://localhost:8080/"
        },
        "id": "gyp9vE3A5UeX",
        "outputId": "c687e915-d5c4-45b7-a7f8-649a2ddf94d7"
      },
      "outputs": [
        {
          "output_type": "stream",
          "name": "stdout",
          "text": [
            "{'Eden Gardens': {'rata_rata_waktu_respons': 13.989189189189194, 'rata_rata_waktu_perjalanan': 2.247747747747748, 'rata_rata_waktu_total': 41.68603603603606, 'populasi': 234, 'total_populasi': 78442}, 'Buffalo Charles': {'rata_rata_waktu_respons': 15.773099415204678, 'rata_rata_waktu_perjalanan': 3.570760233918129, 'rata_rata_waktu_total': 45.3017543859649, 'populasi': 177, 'total_populasi': 78442}, 'New Center': {'rata_rata_waktu_respons': 1.5898351648351647, 'rata_rata_waktu_perjalanan': 0.5021978021978022, 'rata_rata_waktu_total': 15.547390109890097, 'populasi': 745, 'total_populasi': 78442}, \"O'Hair Park\": {'rata_rata_waktu_respons': 15.277704918032784, 'rata_rata_waktu_perjalanan': 4.552459016393445, 'rata_rata_waktu_total': 47.89868852459019, 'populasi': 325, 'total_populasi': 78442}, 'Miller Grove': {'rata_rata_waktu_respons': 11.734272300469481, 'rata_rata_waktu_perjalanan': 2.1553990610328633, 'rata_rata_waktu_total': 33.317840375586854, 'populasi': 218, 'total_populasi': 78442}, 'Elmwood Park': {'rata_rata_waktu_respons': 11.63224932249323, 'rata_rata_waktu_perjalanan': 3.8628726287262865, 'rata_rata_waktu_total': 41.38509485094853, 'populasi': 391, 'total_populasi': 78442}, 'Downtown': {'rata_rata_waktu_respons': 2.3714794585609105, 'rata_rata_waktu_perjalanan': 0.836642127760627, 'rata_rata_waktu_total': 17.527166943718825, 'populasi': 4295, 'total_populasi': 78442}, 'Warrendale': {'rata_rata_waktu_respons': 14.59754464285714, 'rata_rata_waktu_perjalanan': 3.661979166666665, 'rata_rata_waktu_total': 40.365401785714276, 'populasi': 1411, 'total_populasi': 78442}, 'Palmer Park': {'rata_rata_waktu_respons': 14.661832061068706, 'rata_rata_waktu_perjalanan': 3.7225190839694657, 'rata_rata_waktu_total': 35.5320610687023, 'populasi': 280, 'total_populasi': 78442}, 'Brightmoor': {'rata_rata_waktu_respons': 13.782267115600456, 'rata_rata_waktu_perjalanan': 3.9377104377104364, 'rata_rata_waktu_total': 38.78035914702583, 'populasi': 936, 'total_populasi': 78442}, 'McDougall-Hunt': {'rata_rata_waktu_respons': 5.497868217054264, 'rata_rata_waktu_perjalanan': 1.7358527131782946, 'rata_rata_waktu_total': 23.95852713178297, 'populasi': 528, 'total_populasi': 78442}, 'Detroit Golf': {'rata_rata_waktu_respons': 11.003333333333332, 'rata_rata_waktu_perjalanan': 3.686666666666667, 'rata_rata_waktu_total': 38.38666666666668, 'populasi': 32, 'total_populasi': 78442}, 'Central Southwest': {'rata_rata_waktu_respons': 6.903499999999997, 'rata_rata_waktu_perjalanan': 2.050899999999999, 'rata_rata_waktu_total': 26.23159999999999, 'populasi': 1023, 'total_populasi': 78442}, 'Eastern Market': {'rata_rata_waktu_respons': 0.613904109589041, 'rata_rata_waktu_perjalanan': 0.1498630136986301, 'rata_rata_waktu_total': 12.774452054794526, 'populasi': 1467, 'total_populasi': 78442}, 'Davison': {'rata_rata_waktu_respons': 2.344071353620147, 'rata_rata_waktu_perjalanan': 0.7351521511017839, 'rata_rata_waktu_total': 15.286988457502625, 'populasi': 997, 'total_populasi': 78442}, 'Schulze': {'rata_rata_waktu_respons': 14.846577946768061, 'rata_rata_waktu_perjalanan': 3.8102661596958165, 'rata_rata_waktu_total': 39.969201520912534, 'populasi': 567, 'total_populasi': 78442}, 'Grand River-I96': {'rata_rata_waktu_respons': 4.258584905660376, 'rata_rata_waktu_perjalanan': 1.1645283018867927, 'rata_rata_waktu_total': 23.00764150943397, 'populasi': 1085, 'total_populasi': 78442}, 'Oakman Blvd Community': {'rata_rata_waktu_respons': 11.052821670428893, 'rata_rata_waktu_perjalanan': 2.775507900677199, 'rata_rata_waktu_total': 36.46704288939052, 'populasi': 925, 'total_populasi': 78442}, 'Boynton': {'rata_rata_waktu_respons': 10.002650602409638, 'rata_rata_waktu_perjalanan': 4.084819277108435, 'rata_rata_waktu_total': 33.82072289156627, 'populasi': 436, 'total_populasi': 78442}, 'Farwell': {'rata_rata_waktu_respons': 5.852782193958667, 'rata_rata_waktu_perjalanan': 1.497138314785373, 'rata_rata_waktu_total': 24.9947535771065, 'populasi': 643, 'total_populasi': 78442}, 'Cornerstone Village': {'rata_rata_waktu_respons': 15.4589928057554, 'rata_rata_waktu_perjalanan': 4.404676258992807, 'rata_rata_waktu_total': 47.79748201438851, 'populasi': 593, 'total_populasi': 78442}, 'Bethune Community': {'rata_rata_waktu_respons': 11.552201834862393, 'rata_rata_waktu_perjalanan': 3.089999999999999, 'rata_rata_waktu_total': 36.159908256880776, 'populasi': 1143, 'total_populasi': 78442}, 'Russell Woods': {'rata_rata_waktu_respons': 7.385643564356436, 'rata_rata_waktu_perjalanan': 2.2207920792079197, 'rata_rata_waktu_total': 22.429207920792084, 'populasi': 208, 'total_populasi': 78442}, 'Gratiot-Findlay': {'rata_rata_waktu_respons': 2.663914893617021, 'rata_rata_waktu_perjalanan': 0.661531914893617, 'rata_rata_waktu_total': 15.389957446808527, 'populasi': 1195, 'total_populasi': 78442}, 'Gratiot Town/Ketterring': {'rata_rata_waktu_respons': 8.244522968197877, 'rata_rata_waktu_perjalanan': 2.5000000000000013, 'rata_rata_waktu_total': 32.660070671378094, 'populasi': 287, 'total_populasi': 78442}, 'Grandmont #1': {'rata_rata_waktu_respons': 16.213888888888885, 'rata_rata_waktu_perjalanan': 3.995833333333333, 'rata_rata_waktu_total': 45.19305555555556, 'populasi': 73, 'total_populasi': 78442}, 'Greenfield': {'rata_rata_waktu_respons': 14.866269165247013, 'rata_rata_waktu_perjalanan': 4.727938671209541, 'rata_rata_waktu_total': 42.575468483816, 'populasi': 626, 'total_populasi': 78442}, 'Aviation Sub': {'rata_rata_waktu_respons': 15.929838709677423, 'rata_rata_waktu_perjalanan': 4.590322580645162, 'rata_rata_waktu_total': 42.566935483870964, 'populasi': 134, 'total_populasi': 78442}, 'Chandler Park': {'rata_rata_waktu_respons': 7.413259668508284, 'rata_rata_waktu_perjalanan': 2.273480662983425, 'rata_rata_waktu_total': 35.95414364640883, 'populasi': 187, 'total_populasi': 78442}, 'Rosedale Park': {'rata_rata_waktu_respons': 6.650000000000001, 'rata_rata_waktu_perjalanan': 1.8546511627906974, 'rata_rata_waktu_total': 27.188953488372103, 'populasi': 363, 'total_populasi': 78442}, 'Greektown': {'rata_rata_waktu_respons': 0.8119815668202766, 'rata_rata_waktu_perjalanan': 0.40774193548387117, 'rata_rata_waktu_total': 17.103317972350247, 'populasi': 1096, 'total_populasi': 78442}, 'Warren Ave Community': {'rata_rata_waktu_respons': 10.83213399503722, 'rata_rata_waktu_perjalanan': 2.5073200992555824, 'rata_rata_waktu_total': 28.37531017369728, 'populasi': 829, 'total_populasi': 78442}, 'McNichols Evergreen': {'rata_rata_waktu_respons': 9.883333333333333, 'rata_rata_waktu_perjalanan': 2.9631944444444445, 'rata_rata_waktu_total': 30.817361111111115, 'populasi': 153, 'total_populasi': 78442}, 'Hubbard Farms': {'rata_rata_waktu_respons': 7.161481481481482, 'rata_rata_waktu_perjalanan': 2.388888888888889, 'rata_rata_waktu_total': 29.88666666666667, 'populasi': 137, 'total_populasi': 78442}, 'West End': {'rata_rata_waktu_respons': 12.156595744680848, 'rata_rata_waktu_perjalanan': 2.6663829787234032, 'rata_rata_waktu_total': 41.33148936170214, 'populasi': 244, 'total_populasi': 78442}, 'Campau/Banglatown': {'rata_rata_waktu_respons': 10.06666666666667, 'rata_rata_waktu_perjalanan': 4.045454545454546, 'rata_rata_waktu_total': 31.79696969696971, 'populasi': 70, 'total_populasi': 78442}, 'Krainz Woods': {'rata_rata_waktu_respons': 12.001843317972348, 'rata_rata_waktu_perjalanan': 2.3175115207373276, 'rata_rata_waktu_total': 37.1447004608295, 'populasi': 224, 'total_populasi': 78442}, 'Barton-McFarland': {'rata_rata_waktu_respons': 13.3030612244898, 'rata_rata_waktu_perjalanan': 3.675364431486878, 'rata_rata_waktu_total': 44.79067055393583, 'populasi': 723, 'total_populasi': 78442}, 'Woodbridge': {'rata_rata_waktu_respons': 2.5802531645569617, 'rata_rata_waktu_perjalanan': 0.9906329113924053, 'rata_rata_waktu_total': 30.228607594936722, 'populasi': 404, 'total_populasi': 78442}, 'Five Points': {'rata_rata_waktu_respons': 15.75608695652174, 'rata_rata_waktu_perjalanan': 5.170434782608698, 'rata_rata_waktu_total': 47.1282608695652, 'populasi': 246, 'total_populasi': 78442}, 'Petoskey-Otsego': {'rata_rata_waktu_respons': 10.962978723404254, 'rata_rata_waktu_perjalanan': 3.1319148936170214, 'rata_rata_waktu_total': 38.14382978723407, 'populasi': 241, 'total_populasi': 78442}, 'Minock Park': {'rata_rata_waktu_respons': 9.185454545454547, 'rata_rata_waktu_perjalanan': 4.283636363636363, 'rata_rata_waktu_total': 39.69090909090909, 'populasi': 56, 'total_populasi': 78442}, 'Pulaski': {'rata_rata_waktu_respons': 13.379166666666668, 'rata_rata_waktu_perjalanan': 3.806359649122808, 'rata_rata_waktu_total': 38.573464912280734, 'populasi': 472, 'total_populasi': 78442}, 'Forest Park': {'rata_rata_waktu_respons': 8.700000000000001, 'rata_rata_waktu_perjalanan': 2.906603773584906, 'rata_rata_waktu_total': 32.51509433962264, 'populasi': 223, 'total_populasi': 78442}, 'Cadillac Community': {'rata_rata_waktu_respons': 8.653012048192773, 'rata_rata_waktu_perjalanan': 2.524096385542169, 'rata_rata_waktu_total': 27.859638554216865, 'populasi': 167, 'total_populasi': 78442}, 'Conner Creek': {'rata_rata_waktu_respons': 8.250854700854699, 'rata_rata_waktu_perjalanan': 3.0435897435897434, 'rata_rata_waktu_total': 30.564102564102548, 'populasi': 487, 'total_populasi': 78442}, 'Milwaukee Junction': {'rata_rata_waktu_respons': 3.393364928909954, 'rata_rata_waktu_perjalanan': 1.2843601895734598, 'rata_rata_waktu_total': 20.61090047393364, 'populasi': 221, 'total_populasi': 78442}, 'North End': {'rata_rata_waktu_respons': 5.564505119453924, 'rata_rata_waktu_perjalanan': 2.1931740614334463, 'rata_rata_waktu_total': 23.323890784982936, 'populasi': 301, 'total_populasi': 78442}, 'Nortown': {'rata_rata_waktu_respons': 9.778638941398873, 'rata_rata_waktu_perjalanan': 2.6667296786389416, 'rata_rata_waktu_total': 28.33950850661628, 'populasi': 535, 'total_populasi': 78442}, 'Midtown': {'rata_rata_waktu_respons': 3.662205001761183, 'rata_rata_waktu_perjalanan': 1.2617823177175067, 'rata_rata_waktu_total': 27.205882352941213, 'populasi': 2919, 'total_populasi': 78442}, 'Tech Town': {'rata_rata_waktu_respons': 2.6622549019607837, 'rata_rata_waktu_perjalanan': 1.3651960784313728, 'rata_rata_waktu_total': 53.39950980392159, 'populasi': 210, 'total_populasi': 78442}, 'Grandmont': {'rata_rata_waktu_respons': 13.640944881889762, 'rata_rata_waktu_perjalanan': 2.3220472440944877, 'rata_rata_waktu_total': 34.340157480314964, 'populasi': 133, 'total_populasi': 78442}, 'North LaSalle': {'rata_rata_waktu_respons': 12.614204545454548, 'rata_rata_waktu_perjalanan': 3.8227272727272723, 'rata_rata_waktu_total': 37.132954545454545, 'populasi': 184, 'total_populasi': 78442}, 'Pembroke': {'rata_rata_waktu_respons': 13.004395604395603, 'rata_rata_waktu_perjalanan': 5.284615384615387, 'rata_rata_waktu_total': 40.4098901098901, 'populasi': 97, 'total_populasi': 78442}, 'College Park': {'rata_rata_waktu_respons': 10.717001828153567, 'rata_rata_waktu_perjalanan': 3.2692870201096897, 'rata_rata_waktu_total': 35.67458866544793, 'populasi': 576, 'total_populasi': 78442}, 'Hubbell-Puritan': {'rata_rata_waktu_respons': 13.252136752136746, 'rata_rata_waktu_perjalanan': 3.5564102564102567, 'rata_rata_waktu_total': 46.10897435897433, 'populasi': 241, 'total_populasi': 78442}, 'We Care Community': {'rata_rata_waktu_respons': 13.936820083682015, 'rata_rata_waktu_perjalanan': 3.7430962343096215, 'rata_rata_waktu_total': 37.26903765690377, 'populasi': 249, 'total_populasi': 78442}, 'Indian Village': {'rata_rata_waktu_respons': 2.1345454545454543, 'rata_rata_waktu_perjalanan': 1.3890909090909092, 'rata_rata_waktu_total': 23.694545454545455, 'populasi': 55, 'total_populasi': 78442}, 'NW Goldberg': {'rata_rata_waktu_respons': 7.609090909090909, 'rata_rata_waktu_perjalanan': 2.662396694214877, 'rata_rata_waktu_total': 30.164049586776855, 'populasi': 257, 'total_populasi': 78442}, 'Joy-Schaefer': {'rata_rata_waktu_respons': 15.056349206349205, 'rata_rata_waktu_perjalanan': 3.3571428571428568, 'rata_rata_waktu_total': 36.1936507936508, 'populasi': 129, 'total_populasi': 78442}, 'North Corktown': {'rata_rata_waktu_respons': 5.055737704918032, 'rata_rata_waktu_perjalanan': 1.9229508196721308, 'rata_rata_waktu_total': 28.72459016393442, 'populasi': 313, 'total_populasi': 78442}, 'Core City': {'rata_rata_waktu_respons': 5.38082191780822, 'rata_rata_waktu_perjalanan': 1.9063926940639262, 'rata_rata_waktu_total': 26.961187214611872, 'populasi': 222, 'total_populasi': 78442}, 'West Side Industrial': {'rata_rata_waktu_respons': 5.495260663507109, 'rata_rata_waktu_perjalanan': 1.65260663507109, 'rata_rata_waktu_total': 27.093838862559256, 'populasi': 213, 'total_populasi': 78442}, 'Franklin Park': {'rata_rata_waktu_respons': 6.213506994693676, 'rata_rata_waktu_perjalanan': 1.4098890496864442, 'rata_rata_waktu_total': 21.879450072358907, 'populasi': 2128, 'total_populasi': 78442}, 'Regent Park': {'rata_rata_waktu_respons': 9.751351351351357, 'rata_rata_waktu_perjalanan': 2.90258519388954, 'rata_rata_waktu_total': 32.00011750881315, 'populasi': 886, 'total_populasi': 78442}, 'Delray': {'rata_rata_waktu_respons': 1.0030942334739807, 'rata_rata_waktu_perjalanan': 0.36582278481012653, 'rata_rata_waktu_total': 12.811814345991593, 'populasi': 718, 'total_populasi': 78442}, 'Evergreen Lahser 7/8': {'rata_rata_waktu_respons': 17.62621951219512, 'rata_rata_waktu_perjalanan': 4.490548780487802, 'rata_rata_waktu_total': 46.5189024390244, 'populasi': 357, 'total_populasi': 78442}, 'Westwood Park': {'rata_rata_waktu_respons': 14.2075, 'rata_rata_waktu_perjalanan': 3.78, 'rata_rata_waktu_total': 35.91416666666667, 'populasi': 126, 'total_populasi': 78442}, 'Conant Gardens': {'rata_rata_waktu_respons': 4.195180722891566, 'rata_rata_waktu_perjalanan': 1.4481927710843374, 'rata_rata_waktu_total': 21.405421686746987, 'populasi': 172, 'total_populasi': 78442}, 'Castle Rouge': {'rata_rata_waktu_respons': 36.785135135135135, 'rata_rata_waktu_perjalanan': 7.6256756756756765, 'rata_rata_waktu_total': 58.197297297297304, 'populasi': 82, 'total_populasi': 78442}, 'Airport Sub': {'rata_rata_waktu_respons': 11.915601783060918, 'rata_rata_waktu_perjalanan': 3.878751857355129, 'rata_rata_waktu_total': 37.075185735512605, 'populasi': 711, 'total_populasi': 78442}, 'Riverbend': {'rata_rata_waktu_respons': 4.837944162436548, 'rata_rata_waktu_perjalanan': 0.9364213197969549, 'rata_rata_waktu_total': 20.225000000000012, 'populasi': 804, 'total_populasi': 78442}, 'The Eye': {'rata_rata_waktu_respons': 18.089808917197452, 'rata_rata_waktu_perjalanan': 4.6796178343949055, 'rata_rata_waktu_total': 44.87770700636944, 'populasi': 171, 'total_populasi': 78442}, 'Grant': {'rata_rata_waktu_respons': 2.0688470066518847, 'rata_rata_waktu_perjalanan': 0.5443458980044344, 'rata_rata_waktu_total': 14.232705099778315, 'populasi': 909, 'total_populasi': 78442}, 'Evergreen-Outer Drive': {'rata_rata_waktu_respons': 11.803597122302156, 'rata_rata_waktu_perjalanan': 3.507194244604317, 'rata_rata_waktu_total': 38.01834532374104, 'populasi': 583, 'total_populasi': 78442}, 'Ravendale': {'rata_rata_waktu_respons': 9.142857142857142, 'rata_rata_waktu_perjalanan': 2.837857142857143, 'rata_rata_waktu_total': 29.654999999999998, 'populasi': 147, 'total_populasi': 78442}, 'Joy Community': {'rata_rata_waktu_respons': 10.809341500765699, 'rata_rata_waktu_perjalanan': 1.9875957120980086, 'rata_rata_waktu_total': 33.47228177641655, 'populasi': 678, 'total_populasi': 78442}, 'Corktown': {'rata_rata_waktu_respons': 4.353363228699551, 'rata_rata_waktu_perjalanan': 1.6905829596412556, 'rata_rata_waktu_total': 20.253363228699552, 'populasi': 457, 'total_populasi': 78442}, 'Wayne State': {'rata_rata_waktu_respons': 1.5435424354243543, 'rata_rata_waktu_perjalanan': 0.7053874538745388, 'rata_rata_waktu_total': 25.607970479704814, 'populasi': 1370, 'total_populasi': 78442}, 'Belmont': {'rata_rata_waktu_respons': 6.963101604278078, 'rata_rata_waktu_perjalanan': 2.4192513368983954, 'rata_rata_waktu_total': 34.27647058823529, 'populasi': 201, 'total_populasi': 78442}, 'North Rosedale Park': {'rata_rata_waktu_respons': 9.378623188405793, 'rata_rata_waktu_perjalanan': 2.4311594202898563, 'rata_rata_waktu_total': 30.97065217391304, 'populasi': 293, 'total_populasi': 78442}, 'Oak Grove': {'rata_rata_waktu_respons': 3.8717277486911006, 'rata_rata_waktu_perjalanan': 0.9045026178010472, 'rata_rata_waktu_total': 17.120418848167567, 'populasi': 977, 'total_populasi': 78442}, 'Schoolcraft Southfield': {'rata_rata_waktu_respons': 9.57785016286645, 'rata_rata_waktu_perjalanan': 2.893159609120522, 'rata_rata_waktu_total': 33.08908794788271, 'populasi': 637, 'total_populasi': 78442}, 'Crary/St Marys': {'rata_rata_waktu_respons': 14.40978520286397, 'rata_rata_waktu_perjalanan': 4.274224343675418, 'rata_rata_waktu_total': 39.92219570405724, 'populasi': 441, 'total_populasi': 78442}, 'Mount Olivet': {'rata_rata_waktu_respons': 8.307956600361663, 'rata_rata_waktu_perjalanan': 1.9307414104882463, 'rata_rata_waktu_total': 23.520614828209762, 'populasi': 561, 'total_populasi': 78442}, 'Nardin Park': {'rata_rata_waktu_respons': 3.7115452930728225, 'rata_rata_waktu_perjalanan': 1.0525754884547067, 'rata_rata_waktu_total': 17.05879218472468, 'populasi': 1139, 'total_populasi': 78442}, 'Pershing': {'rata_rata_waktu_respons': 6.8952380952380965, 'rata_rata_waktu_perjalanan': 1.791156462585034, 'rata_rata_waktu_total': 44.74285714285714, 'populasi': 157, 'total_populasi': 78442}, 'Palmer Woods': {'rata_rata_waktu_respons': 0.6183291770573565, 'rata_rata_waktu_perjalanan': 0.1768079800498753, 'rata_rata_waktu_total': 10.232169576059857, 'populasi': 805, 'total_populasi': 78442}, 'Islandview': {'rata_rata_waktu_respons': 7.483885209713027, 'rata_rata_waktu_perjalanan': 2.4620309050772637, 'rata_rata_waktu_total': 32.1655629139073, 'populasi': 467, 'total_populasi': 78442}, 'Piety Hill': {'rata_rata_waktu_respons': 8.342592592592592, 'rata_rata_waktu_perjalanan': 3.0796296296296295, 'rata_rata_waktu_total': 32.89444444444442, 'populasi': 165, 'total_populasi': 78442}, 'Nolan': {'rata_rata_waktu_respons': 4.0721366376423305, 'rata_rata_waktu_perjalanan': 1.3722705961152046, 'rata_rata_waktu_total': 20.12993971868722, 'populasi': 1524, 'total_populasi': 78442}, 'Far West Detroit': {'rata_rata_waktu_respons': 25.88318584070796, 'rata_rata_waktu_perjalanan': 9.070796460176993, 'rata_rata_waktu_total': 66.83008849557524, 'populasi': 122, 'total_populasi': 78442}, 'Claytown': {'rata_rata_waktu_respons': 10.575955610357582, 'rata_rata_waktu_perjalanan': 3.6733662145499406, 'rata_rata_waktu_total': 32.038347718865616, 'populasi': 833, 'total_populasi': 78442}, 'Dexter-Linwood': {'rata_rata_waktu_respons': 10.974012474012472, 'rata_rata_waktu_perjalanan': 2.860395010395011, 'rata_rata_waktu_total': 30.693970893970896, 'populasi': 996, 'total_populasi': 78442}, 'Mapleridge': {'rata_rata_waktu_respons': 9.015782312925172, 'rata_rata_waktu_perjalanan': 2.1965986394557806, 'rata_rata_waktu_total': 34.837959183673455, 'populasi': 768, 'total_populasi': 78442}, 'Marina District': {'rata_rata_waktu_respons': 7.519672131147541, 'rata_rata_waktu_perjalanan': 2.2704918032786887, 'rata_rata_waktu_total': 25.996721311475394, 'populasi': 62, 'total_populasi': 78442}, 'Northeast Central District': {'rata_rata_waktu_respons': 9.064705882352941, 'rata_rata_waktu_perjalanan': 1.6768907563025202, 'rata_rata_waktu_total': 30.13319327731091, 'populasi': 247, 'total_populasi': 78442}, 'Riverdale': {'rata_rata_waktu_respons': 8.70769230769231, 'rata_rata_waktu_perjalanan': 2.350769230769231, 'rata_rata_waktu_total': 27.716153846153833, 'populasi': 138, 'total_populasi': 78442}, 'Dexter-Fenkell': {'rata_rata_waktu_respons': 8.62857142857143, 'rata_rata_waktu_perjalanan': 2.3769841269841265, 'rata_rata_waktu_total': 24.87301587301588, 'populasi': 130, 'total_populasi': 78442}, 'Lafayette Park': {'rata_rata_waktu_respons': 5.13793103448276, 'rata_rata_waktu_perjalanan': 1.313103448275862, 'rata_rata_waktu_total': 28.701724137931024, 'populasi': 297, 'total_populasi': 78442}, 'Seven Mile-Rouge': {'rata_rata_waktu_respons': 17.17378640776699, 'rata_rata_waktu_perjalanan': 4.072815533980584, 'rata_rata_waktu_total': 43.32038834951457, 'populasi': 225, 'total_populasi': 78442}, 'Chadsey Condon': {'rata_rata_waktu_respons': 11.456318681318677, 'rata_rata_waktu_perjalanan': 4.0332417582417595, 'rata_rata_waktu_total': 34.61263736263735, 'populasi': 377, 'total_populasi': 78442}, 'Weatherby': {'rata_rata_waktu_respons': 7.089430894308943, 'rata_rata_waktu_perjalanan': 1.591463414634147, 'rata_rata_waktu_total': 21.808130081300806, 'populasi': 254, 'total_populasi': 78442}, 'Jeffries': {'rata_rata_waktu_respons': 2.8428571428571425, 'rata_rata_waktu_perjalanan': 0.8066326530612246, 'rata_rata_waktu_total': 20.082142857142856, 'populasi': 199, 'total_populasi': 78442}, 'Mohican Regent': {'rata_rata_waktu_respons': 5.884857142857142, 'rata_rata_waktu_perjalanan': 2.2768571428571436, 'rata_rata_waktu_total': 20.79142857142858, 'populasi': 364, 'total_populasi': 78442}, 'Cultural Center': {'rata_rata_waktu_respons': 3.910112359550563, 'rata_rata_waktu_perjalanan': 1.41376404494382, 'rata_rata_waktu_total': 24.96095505617978, 'populasi': 359, 'total_populasi': 78442}, 'Plymouth-I96': {'rata_rata_waktu_respons': 5.2067415730337085, 'rata_rata_waktu_perjalanan': 1.2168539325842698, 'rata_rata_waktu_total': 20.493258426966307, 'populasi': 278, 'total_populasi': 78442}, 'University District': {'rata_rata_waktu_respons': 5.365983606557378, 'rata_rata_waktu_perjalanan': 1.773360655737705, 'rata_rata_waktu_total': 22.918032786885234, 'populasi': 252, 'total_populasi': 78442}, 'Gratiot-Grand': {'rata_rata_waktu_respons': 6.712251655629139, 'rata_rata_waktu_perjalanan': 2.079801324503311, 'rata_rata_waktu_total': 29.535761589403958, 'populasi': 314, 'total_populasi': 78442}, 'Schaefer 7/8 Lodge': {'rata_rata_waktu_respons': 18.592831541218636, 'rata_rata_waktu_perjalanan': 5.259139784946239, 'rata_rata_waktu_total': 50.14408602150537, 'populasi': 303, 'total_populasi': 78442}, 'Medical Center': {'rata_rata_waktu_respons': 9.699588477366257, 'rata_rata_waktu_perjalanan': 3.063168724279835, 'rata_rata_waktu_total': 49.183950617283955, 'populasi': 514, 'total_populasi': 78442}, 'Franklin': {'rata_rata_waktu_respons': 11.763020833333327, 'rata_rata_waktu_perjalanan': 2.841666666666668, 'rata_rata_waktu_total': 33.6286458333333, 'populasi': 400, 'total_populasi': 78442}, 'Bagley': {'rata_rata_waktu_respons': 11.58441176470588, 'rata_rata_waktu_perjalanan': 3.0066176470588224, 'rata_rata_waktu_total': 33.13191176470589, 'populasi': 704, 'total_populasi': 78442}, 'Fox Creek': {'rata_rata_waktu_respons': 8.981791907514452, 'rata_rata_waktu_perjalanan': 2.4485549132947977, 'rata_rata_waktu_total': 30.06011560693642, 'populasi': 356, 'total_populasi': 78442}, 'Winship': {'rata_rata_waktu_respons': 20.04185110663985, 'rata_rata_waktu_perjalanan': 5.124949698189141, 'rata_rata_waktu_total': 51.04668008048287, 'populasi': 520, 'total_populasi': 78442}, 'Southfield Plymouth': {'rata_rata_waktu_respons': 9.49824561403509, 'rata_rata_waktu_perjalanan': 2.081578947368421, 'rata_rata_waktu_total': 32.41578947368422, 'populasi': 120, 'total_populasi': 78442}, 'Poletown East': {'rata_rata_waktu_respons': 5.124509803921568, 'rata_rata_waktu_perjalanan': 1.7604575163398695, 'rata_rata_waktu_total': 22.60424836601306, 'populasi': 311, 'total_populasi': 78442}, 'Brush Park': {'rata_rata_waktu_respons': 2.984633027522936, 'rata_rata_waktu_perjalanan': 1.0763761467889912, 'rata_rata_waktu_total': 14.720642201834876, 'populasi': 443, 'total_populasi': 78442}, 'Hawthorne Park': {'rata_rata_waktu_respons': 4.175454545454546, 'rata_rata_waktu_perjalanan': 1.1195454545454546, 'rata_rata_waktu_total': 15.641818181818184, 'populasi': 226, 'total_populasi': 78442}, 'Moross-Morang': {'rata_rata_waktu_respons': 10.846616541353386, 'rata_rata_waktu_perjalanan': 2.7768796992481204, 'rata_rata_waktu_total': 30.234774436090248, 'populasi': 547, 'total_populasi': 78442}, 'Plymouth-Hubbell': {'rata_rata_waktu_respons': 13.240656565656561, 'rata_rata_waktu_perjalanan': 2.8709595959595946, 'rata_rata_waktu_total': 38.975757575757584, 'populasi': 428, 'total_populasi': 78442}, 'Harmony Village': {'rata_rata_waktu_respons': 11.386103542234332, 'rata_rata_waktu_perjalanan': 3.7463215258855582, 'rata_rata_waktu_total': 36.78855585831064, 'populasi': 393, 'total_populasi': 78442}, 'Sherwood Forest': {'rata_rata_waktu_respons': 2.8648351648351653, 'rata_rata_waktu_perjalanan': 0.9120879120879121, 'rata_rata_waktu_total': 18.273626373626378, 'populasi': 93, 'total_populasi': 78442}, 'Hubbell-Lyndon': {'rata_rata_waktu_respons': 11.841584158415833, 'rata_rata_waktu_perjalanan': 2.851485148514851, 'rata_rata_waktu_total': 33.322029702970305, 'populasi': 422, 'total_populasi': 78442}, 'Von Steuben': {'rata_rata_waktu_respons': 9.378169014084511, 'rata_rata_waktu_perjalanan': 2.3424882629107975, 'rata_rata_waktu_total': 31.333802816901436, 'populasi': 436, 'total_populasi': 78442}, 'Morningside': {'rata_rata_waktu_respons': 13.940619621342513, 'rata_rata_waktu_perjalanan': 3.2318416523235816, 'rata_rata_waktu_total': 44.52409638554217, 'populasi': 607, 'total_populasi': 78442}, 'McDowell': {'rata_rata_waktu_respons': 17.55882352941176, 'rata_rata_waktu_perjalanan': 3.1529411764705877, 'rata_rata_waktu_total': 40.897058823529406, 'populasi': 110, 'total_populasi': 78442}, 'East Village': {'rata_rata_waktu_respons': 11.029910714285709, 'rata_rata_waktu_perjalanan': 3.3953125000000015, 'rata_rata_waktu_total': 38.585491071428535, 'populasi': 463, 'total_populasi': 78442}, 'Denby': {'rata_rata_waktu_respons': 12.80543478260869, 'rata_rata_waktu_perjalanan': 2.757608695652174, 'rata_rata_waktu_total': 39.83224637681157, 'populasi': 286, 'total_populasi': 78442}, 'Oakwood Heights': {'rata_rata_waktu_respons': 12.64285714285714, 'rata_rata_waktu_perjalanan': 4.266666666666667, 'rata_rata_waktu_total': 41.03095238095239, 'populasi': 45, 'total_populasi': 78442}, 'Outer Drive-Hayes': {'rata_rata_waktu_respons': 10.055687438180012, 'rata_rata_waktu_perjalanan': 3.267359050445103, 'rata_rata_waktu_total': 33.9280909990109, 'populasi': 1061, 'total_populasi': 78442}, 'Fitzgerald/Marygrove': {'rata_rata_waktu_respons': 14.164675767918085, 'rata_rata_waktu_perjalanan': 4.04965870307167, 'rata_rata_waktu_total': 44.07252559726958, 'populasi': 614, 'total_populasi': 78442}, 'Greenfield-Grand River': {'rata_rata_waktu_respons': 12.073584905660377, 'rata_rata_waktu_perjalanan': 3.5033018867924524, 'rata_rata_waktu_total': 40.532547169811345, 'populasi': 221, 'total_populasi': 78442}, 'Medbury Park': {'rata_rata_waktu_respons': 2.32463768115942, 'rata_rata_waktu_perjalanan': 1.2579710144927536, 'rata_rata_waktu_total': 15.786956521739134, 'populasi': 71, 'total_populasi': 78442}, 'Wade': {'rata_rata_waktu_respons': 12.433544303797468, 'rata_rata_waktu_perjalanan': 3.3594936708860765, 'rata_rata_waktu_total': 43.6860759493671, 'populasi': 164, 'total_populasi': 78442}, 'Cadillac Heights': {'rata_rata_waktu_respons': 9.44331550802139, 'rata_rata_waktu_perjalanan': 2.5759358288770047, 'rata_rata_waktu_total': 33.69411764705883, 'populasi': 193, 'total_populasi': 78442}, 'Garden Homes': {'rata_rata_waktu_respons': 27.368269230769233, 'rata_rata_waktu_perjalanan': 4.803846153846154, 'rata_rata_waktu_total': 52.607692307692304, 'populasi': 109, 'total_populasi': 78442}, 'Pilgrim Village': {'rata_rata_waktu_respons': 14.98775510204081, 'rata_rata_waktu_perjalanan': 4.92816326530612, 'rata_rata_waktu_total': 39.85265306122447, 'populasi': 257, 'total_populasi': 78442}, 'West Village': {'rata_rata_waktu_respons': 6.1794117647058835, 'rata_rata_waktu_perjalanan': 2.552941176470589, 'rata_rata_waktu_total': 29.283088235294127, 'populasi': 141, 'total_populasi': 78442}, 'Springwells': {'rata_rata_waktu_respons': 9.15514905149051, 'rata_rata_waktu_perjalanan': 2.95230352303523, 'rata_rata_waktu_total': 29.516531165311648, 'populasi': 758, 'total_populasi': 78442}, 'Chalfonte': {'rata_rata_waktu_respons': 13.633333333333336, 'rata_rata_waktu_perjalanan': 3.1606060606060593, 'rata_rata_waktu_total': 33.66623376623377, 'populasi': 245, 'total_populasi': 78442}, 'Martin Park': {'rata_rata_waktu_respons': 18.303401360544218, 'rata_rata_waktu_perjalanan': 4.523809523809523, 'rata_rata_waktu_total': 44.457142857142834, 'populasi': 153, 'total_populasi': 78442}, 'Jefferson Chalmers': {'rata_rata_waktu_respons': 10.61383285302594, 'rata_rata_waktu_perjalanan': 3.1809798270893372, 'rata_rata_waktu_total': 38.58876080691641, 'populasi': 367, 'total_populasi': 78442}, 'Grand River-St Marys': {'rata_rata_waktu_respons': 13.262871287128714, 'rata_rata_waktu_perjalanan': 3.351485148514853, 'rata_rata_waktu_total': 34.75148514851483, 'populasi': 213, 'total_populasi': 78442}, 'Greenfield Park': {'rata_rata_waktu_respons': 4.742982456140351, 'rata_rata_waktu_perjalanan': 0.9710526315789473, 'rata_rata_waktu_total': 19.529239766081886, 'populasi': 350, 'total_populasi': 78442}, 'Jamison': {'rata_rata_waktu_respons': 15.98101265822785, 'rata_rata_waktu_perjalanan': 3.235443037974683, 'rata_rata_waktu_total': 44.212658227848095, 'populasi': 87, 'total_populasi': 78442}, 'Holcomb Community': {'rata_rata_waktu_respons': 11.676255707762556, 'rata_rata_waktu_perjalanan': 2.2993911719939106, 'rata_rata_waktu_total': 36.75479452054794, 'populasi': 688, 'total_populasi': 78442}, 'Conner Creek Industrial': {'rata_rata_waktu_respons': 12.012941176470589, 'rata_rata_waktu_perjalanan': 2.5111764705882345, 'rata_rata_waktu_total': 33.7241176470588, 'populasi': 184, 'total_populasi': 78442}, 'Eliza Howell': {'rata_rata_waktu_respons': 32.90740740740742, 'rata_rata_waktu_perjalanan': 8.041666666666666, 'rata_rata_waktu_total': 71.25277777777777, 'populasi': 121, 'total_populasi': 78442}, 'Chandler Park-Chalmers': {'rata_rata_waktu_respons': 9.430392156862744, 'rata_rata_waktu_perjalanan': 2.3794117647058823, 'rata_rata_waktu_total': 33.56078431372549, 'populasi': 109, 'total_populasi': 78442}, 'Henry Ford': {'rata_rata_waktu_respons': 20.440000000000005, 'rata_rata_waktu_perjalanan': 5.935609756097561, 'rata_rata_waktu_total': 49.58, 'populasi': 214, 'total_populasi': 78442}, 'East English Village': {'rata_rata_waktu_respons': 16.67489711934156, 'rata_rata_waktu_perjalanan': 4.716872427983542, 'rata_rata_waktu_total': 39.76872427983537, 'populasi': 257, 'total_populasi': 78442}, 'Yorkshire Woods': {'rata_rata_waktu_respons': 11.517875647668383, 'rata_rata_waktu_perjalanan': 2.7546632124352337, 'rata_rata_waktu_total': 37.06502590673575, 'populasi': 394, 'total_populasi': 78442}, 'Elijah McCoy': {'rata_rata_waktu_respons': 10.422500000000003, 'rata_rata_waktu_perjalanan': 3.6141666666666667, 'rata_rata_waktu_total': 44.985000000000014, 'populasi': 125, 'total_populasi': 78442}, 'Rivertown': {'rata_rata_waktu_respons': 2.5003105590062114, 'rata_rata_waktu_perjalanan': 0.7636645962732919, 'rata_rata_waktu_total': 19.175621118012426, 'populasi': 652, 'total_populasi': 78442}, 'North Campau': {'rata_rata_waktu_respons': 4.694468085106383, 'rata_rata_waktu_perjalanan': 1.8229787234042552, 'rata_rata_waktu_total': 19.19361702127661, 'populasi': 245, 'total_populasi': 78442}, 'South of Six': {'rata_rata_waktu_respons': 12.682352941176472, 'rata_rata_waktu_perjalanan': 5.464705882352941, 'rata_rata_waktu_total': 47.937254901960785, 'populasi': 58, 'total_populasi': 78442}, 'Midwest': {'rata_rata_waktu_respons': 14.298630136986308, 'rata_rata_waktu_perjalanan': 4.643531202435305, 'rata_rata_waktu_total': 41.63181126331804, 'populasi': 689, 'total_populasi': 78442}, 'Northwest Community': {'rata_rata_waktu_respons': 6.566666666666666, 'rata_rata_waktu_perjalanan': 2.1675, 'rata_rata_waktu_total': 31.627500000000012, 'populasi': 126, 'total_populasi': 78442}, 'Gold Coast': {'rata_rata_waktu_respons': 8.675634517766499, 'rata_rata_waktu_perjalanan': 2.115228426395939, 'rata_rata_waktu_total': 32.51675126903554, 'populasi': 204, 'total_populasi': 78442}, 'Littlefield Community': {'rata_rata_waktu_respons': 20.145555555555557, 'rata_rata_waktu_perjalanan': 4.663333333333331, 'rata_rata_waktu_total': 40.519999999999996, 'populasi': 95, 'total_populasi': 78442}, 'San Bernardo': {'rata_rata_waktu_respons': 9.937623762376239, 'rata_rata_waktu_perjalanan': 3.96039603960396, 'rata_rata_waktu_total': 27.85643564356436, 'populasi': 105, 'total_populasi': 78442}, 'Butler': {'rata_rata_waktu_respons': 9.0990099009901, 'rata_rata_waktu_perjalanan': 2.087623762376238, 'rata_rata_waktu_total': 24.355445544554442, 'populasi': 209, 'total_populasi': 78442}, 'New Center Commons': {'rata_rata_waktu_respons': 7.601428571428569, 'rata_rata_waktu_perjalanan': 2.662142857142859, 'rata_rata_waktu_total': 33.684285714285714, 'populasi': 148, 'total_populasi': 78442}, 'Fiskhorn': {'rata_rata_waktu_respons': 11.44017857142857, 'rata_rata_waktu_perjalanan': 3.816964285714285, 'rata_rata_waktu_total': 44.648214285714275, 'populasi': 120, 'total_populasi': 78442}, 'Rouge Park': {'rata_rata_waktu_respons': 8.003658536585366, 'rata_rata_waktu_perjalanan': 1.2804878048780488, 'rata_rata_waktu_total': 21.931707317073172, 'populasi': 85, 'total_populasi': 78442}, 'Herman Kiefer': {'rata_rata_waktu_respons': 25.551219512195118, 'rata_rata_waktu_perjalanan': 5.121951219512194, 'rata_rata_waktu_total': 52.019512195121955, 'populasi': 44, 'total_populasi': 78442}, 'Blackstone Park': {'rata_rata_waktu_respons': 28.690909090909088, 'rata_rata_waktu_perjalanan': 4.689610389610389, 'rata_rata_waktu_total': 63.75194805194805, 'populasi': 80, 'total_populasi': 78442}, 'Davison-Schoolcraft': {'rata_rata_waktu_respons': 10.730379746835442, 'rata_rata_waktu_perjalanan': 2.7620253164556954, 'rata_rata_waktu_total': 33.903797468354405, 'populasi': 165, 'total_populasi': 78442}, 'Mexicantown': {'rata_rata_waktu_respons': 8.953488372093023, 'rata_rata_waktu_perjalanan': 1.7651162790697672, 'rata_rata_waktu_total': 30.01860465116279, 'populasi': 44, 'total_populasi': 78442}, 'Gratiot Woods': {'rata_rata_waktu_respons': 11.81353383458647, 'rata_rata_waktu_perjalanan': 2.8097744360902257, 'rata_rata_waktu_total': 43.9578947368421, 'populasi': 136, 'total_populasi': 78442}, 'State Fair': {'rata_rata_waktu_respons': 11.244444444444444, 'rata_rata_waktu_perjalanan': 3.302222222222222, 'rata_rata_waktu_total': 53.78666666666667, 'populasi': 50, 'total_populasi': 78442}, 'Joseph Berry Sub': {'rata_rata_waktu_respons': 25.552941176470586, 'rata_rata_waktu_perjalanan': 0.8588235294117648, 'rata_rata_waktu_total': 41.247058823529414, 'populasi': 18, 'total_populasi': 78442}, 'Melvern Hill': {'rata_rata_waktu_respons': 4.213636363636363, 'rata_rata_waktu_perjalanan': 0.5818181818181819, 'rata_rata_waktu_total': 26.88181818181818, 'populasi': 23, 'total_populasi': 78442}, 'Pride Area Community': {'rata_rata_waktu_respons': 8.364772727272726, 'rata_rata_waktu_perjalanan': 2.9380681818181817, 'rata_rata_waktu_total': 28.094318181818185, 'populasi': 187, 'total_populasi': 78442}, 'Penrose': {'rata_rata_waktu_respons': 14.568235294117653, 'rata_rata_waktu_perjalanan': 2.9211764705882355, 'rata_rata_waktu_total': 38.54941176470589, 'populasi': 90, 'total_populasi': 78442}, 'Sherwood': {'rata_rata_waktu_respons': 8.800847457627121, 'rata_rata_waktu_perjalanan': 2.583898305084746, 'rata_rata_waktu_total': 33.06694915254237, 'populasi': 122, 'total_populasi': 78442}, 'Michigan-Martin': {'rata_rata_waktu_respons': 6.776923076923077, 'rata_rata_waktu_perjalanan': 2.419230769230769, 'rata_rata_waktu_total': 32.20961538461538, 'populasi': 54, 'total_populasi': 78442}, 'Virginia Park': {'rata_rata_waktu_respons': 7.7272727272727275, 'rata_rata_waktu_perjalanan': 2.1954545454545453, 'rata_rata_waktu_total': 29.872727272727264, 'populasi': 25, 'total_populasi': 78442}, 'Wildemere Park': {'rata_rata_waktu_respons': 13.812987012987016, 'rata_rata_waktu_perjalanan': 3.97012987012987, 'rata_rata_waktu_total': 42.1961038961039, 'populasi': 79, 'total_populasi': 78442}, 'West Outer Drive': {'rata_rata_waktu_respons': 15.646666666666667, 'rata_rata_waktu_perjalanan': 5.466666666666667, 'rata_rata_waktu_total': 41.37666666666667, 'populasi': 31, 'total_populasi': 78442}, 'Grixdale Farms': {'rata_rata_waktu_respons': 15.537614678899088, 'rata_rata_waktu_perjalanan': 3.7683486238532105, 'rata_rata_waktu_total': 35.33486238532112, 'populasi': 222, 'total_populasi': 78442}, 'Berg-Lahser': {'rata_rata_waktu_respons': 20.237419354838703, 'rata_rata_waktu_perjalanan': 5.31483870967742, 'rata_rata_waktu_total': 47.880000000000024, 'populasi': 164, 'total_populasi': 78442}, 'Arden Park': {'rata_rata_waktu_respons': 5.836363636363637, 'rata_rata_waktu_perjalanan': 2.2181818181818183, 'rata_rata_waktu_total': 20.145454545454545, 'populasi': 11, 'total_populasi': 78442}, 'Pingree Park': {'rata_rata_waktu_respons': 6.780769230769229, 'rata_rata_waktu_perjalanan': 3.3961538461538456, 'rata_rata_waktu_total': 38.498076923076916, 'populasi': 54, 'total_populasi': 78442}, 'Green Acres': {'rata_rata_waktu_respons': 8.832142857142859, 'rata_rata_waktu_perjalanan': 2.7619047619047628, 'rata_rata_waktu_total': 27.644047619047612, 'populasi': 87, 'total_populasi': 78442}, 'Brewster Homes': {'rata_rata_waktu_respons': 15.553571428571429, 'rata_rata_waktu_perjalanan': 6.124999999999999, 'rata_rata_waktu_total': 52.24999999999999, 'populasi': 63, 'total_populasi': 78442}, 'Tri-Point': {'rata_rata_waktu_respons': 15.755172413793103, 'rata_rata_waktu_perjalanan': 4.386206896551724, 'rata_rata_waktu_total': 48.82413793103448, 'populasi': 30, 'total_populasi': 78442}, 'Garden View': {'rata_rata_waktu_respons': 25.756321839080464, 'rata_rata_waktu_perjalanan': 2.8551724137931047, 'rata_rata_waktu_total': 55.054022988505736, 'populasi': 91, 'total_populasi': 78442}, 'Boston Edison': {'rata_rata_waktu_respons': 12.25689655172414, 'rata_rata_waktu_perjalanan': 3.2620689655172423, 'rata_rata_waktu_total': 41.906896551724145, 'populasi': 64, 'total_populasi': 78442}, 'East Canfield': {'rata_rata_waktu_respons': 11.7, 'rata_rata_waktu_perjalanan': 4.642857142857143, 'rata_rata_waktu_total': 33.6, 'populasi': 22, 'total_populasi': 78442}, 'Paveway': {'rata_rata_waktu_respons': 7.288461538461537, 'rata_rata_waktu_perjalanan': 2.6153846153846154, 'rata_rata_waktu_total': 32.49230769230768, 'populasi': 55, 'total_populasi': 78442}, 'LaSalle College Park': {'rata_rata_waktu_respons': 14.326666666666668, 'rata_rata_waktu_perjalanan': 3.5758974358974345, 'rata_rata_waktu_total': 38.50153846153845, 'populasi': 207, 'total_populasi': 78442}, 'Happy Homes': {'rata_rata_waktu_respons': 6.375342465753424, 'rata_rata_waktu_perjalanan': 1.8095890410958904, 'rata_rata_waktu_total': 31.438356164383567, 'populasi': 77, 'total_populasi': 78442}, 'Gateway Community': {'rata_rata_waktu_respons': 11.911363636363633, 'rata_rata_waktu_perjalanan': 4.257575757575758, 'rata_rata_waktu_total': 33.6401515151515, 'populasi': 137, 'total_populasi': 78442}, 'Hubbard Richard': {'rata_rata_waktu_respons': 11.280701754385968, 'rata_rata_waktu_perjalanan': 2.468421052631579, 'rata_rata_waktu_total': 32.261403508771934, 'populasi': 59, 'total_populasi': 78442}, 'Seven Mile Lodge': {'rata_rata_waktu_respons': 8.177777777777777, 'rata_rata_waktu_perjalanan': 4.244444444444444, 'rata_rata_waktu_total': 49.03611111111112, 'populasi': 38, 'total_populasi': 78442}, 'West Virginia Park': {'rata_rata_waktu_respons': 0.0, 'rata_rata_waktu_perjalanan': 0.0, 'rata_rata_waktu_total': 4.375, 'populasi': 4, 'total_populasi': 78442}, 'Greenwich': {'rata_rata_waktu_respons': 17.99367088607595, 'rata_rata_waktu_perjalanan': 4.00253164556962, 'rata_rata_waktu_total': 37.348101265822784, 'populasi': 80, 'total_populasi': 78442}, 'LaSalle Gardens': {'rata_rata_waktu_respons': 14.94358974358974, 'rata_rata_waktu_perjalanan': 4.053846153846154, 'rata_rata_waktu_total': 41.348717948717926, 'populasi': 82, 'total_populasi': 78442}, 'Old Redford': {'rata_rata_waktu_respons': 5.761643835616437, 'rata_rata_waktu_perjalanan': 1.6013698630136985, 'rata_rata_waktu_total': 19.193150684931503, 'populasi': 74, 'total_populasi': 78442}, 'Belle Isle': {'rata_rata_waktu_respons': 0.0, 'rata_rata_waktu_perjalanan': 0.0, 'rata_rata_waktu_total': 12.75, 'populasi': 3, 'total_populasi': 78442}, 'Carbon Works': {'rata_rata_waktu_respons': 5.396774193548387, 'rata_rata_waktu_perjalanan': 3.093548387096774, 'rata_rata_waktu_total': 33.78387096774193, 'populasi': 31, 'total_populasi': 78442}, 'Russell Industrial': {'rata_rata_waktu_respons': 15.592857142857142, 'rata_rata_waktu_perjalanan': 3.8428571428571425, 'rata_rata_waktu_total': 29.578571428571426, 'populasi': 16, 'total_populasi': 78442}, 'Douglass': {'rata_rata_waktu_respons': 9.3875, 'rata_rata_waktu_perjalanan': 1.175, 'rata_rata_waktu_total': 36.675, 'populasi': 8, 'total_populasi': 78442}, 'Historic Atkinson': {'rata_rata_waktu_respons': 15.052941176470586, 'rata_rata_waktu_perjalanan': 3.411764705882353, 'rata_rata_waktu_total': 35.78823529411765, 'populasi': 18, 'total_populasi': 78442}, 'Waterworks Park': {'rata_rata_waktu_respons': 20.2, 'rata_rata_waktu_perjalanan': 3.65, 'rata_rata_waktu_total': 52.21666666666667, 'populasi': 6, 'total_populasi': 78442}}\n"
          ]
        }
      ],
      "source": [
        "from functools import reduce\n",
        "\n",
        "# Mengelompokkan data berdasarkan daerah (neighborhood)\n",
        "def kelompokkan_berdasarkan_daerah(data):\n",
        "    data_terkelompok = {}\n",
        "    for baris in data:\n",
        "        daerah = baris['neighborhood']\n",
        "        if daerah not in data_terkelompok:\n",
        "            data_terkelompok[daerah] = []\n",
        "        data_terkelompok[daerah].append(baris)\n",
        "    return data_terkelompok\n",
        "\n",
        "# Menghitung rata-rata waktu respons, waktu perjalanan, dan total waktu untuk setiap daerah\n",
        "def hitung_rata_rata_daerah(data):\n",
        "    rata_rata = {}\n",
        "    for daerah, catatan in data.items():\n",
        "        if not catatan:\n",
        "            rata_rata[daerah] = {\n",
        "                'rata_rata_waktu_respons': 0,\n",
        "                'rata_rata_waktu_perjalanan': 0,\n",
        "                'rata_rata_waktu_total': 0,\n",
        "                'populasi': 0\n",
        "            }\n",
        "        else:\n",
        "            waktu_respons = [float(baris['totalresponsetime']) for baris in catatan if baris['totalresponsetime'].strip()]\n",
        "            waktu_perjalanan = [float(baris['traveltime']) for baris in catatan if baris['traveltime'].strip()]\n",
        "            waktu_total = [float(baris['totaltime']) for baris in catatan if baris['totaltime'].strip()]\n",
        "\n",
        "            jumlah_catatan = len(waktu_respons)\n",
        "            if jumlah_catatan > 0:\n",
        "                total_waktu_respons = sum(waktu_respons)\n",
        "                total_waktu_perjalanan = sum(waktu_perjalanan)\n",
        "                total_waktu = sum(waktu_total)\n",
        "                rata_rata[daerah] = {\n",
        "                    'rata_rata_waktu_respons': total_waktu_respons / jumlah_catatan,\n",
        "                    'rata_rata_waktu_perjalanan': total_waktu_perjalanan / jumlah_catatan,\n",
        "                    'rata_rata_waktu_total': total_waktu / jumlah_catatan,\n",
        "                    'populasi': len(catatan)  # Menambahkan populasi setiap daerah\n",
        "                }\n",
        "            else:\n",
        "                rata_rata[daerah] = {\n",
        "                    'rata_rata_waktu_respons': 0,\n",
        "                    'rata_rata_waktu_perjalanan': 0,\n",
        "                    'rata_rata_waktu_total': 0,\n",
        "                    'populasi': len(catatan)\n",
        "                }\n",
        "    return rata_rata\n",
        "\n",
        "\n",
        "# Fungsi untuk membaca file CSV dan memfilter baris yang lengkap\n",
        "def baca_csv_saring(nama_file):\n",
        "    with open(nama_file, 'r') as file:\n",
        "        pembaca = csv.DictReader(file)\n",
        "        data = filter(lambda x: x['zip_code'] != '' and x['neighborhood'] != '', pembaca)\n",
        "        return list(data)\n",
        "\n",
        "# Bagian 2 - Kelompokkan data berdasarkan daerah\n",
        "data_terkelompok = kelompokkan_berdasarkan_daerah(data_terfilter)\n",
        "\n",
        "# Bagian 3 - Hitung rata-rata waktu respons, waktu perjalanan, dan total waktu untuk setiap daerah\n",
        "rata_rata_daerah = hitung_rata_rata_daerah(data_terkelompok)\n",
        "\n",
        "# Tambahkan item dictionary untuk menyertakan data populasi untuk semua Detroit dalam daftar gabungan\n",
        "total_populasi = len(data_terfilter)\n",
        "for daerah in rata_rata_daerah:\n",
        "    rata_rata_daerah[daerah]['total_populasi'] = total_populasi\n",
        "\n",
        "print(rata_rata_daerah)\n"
      ]
    },
    {
      "cell_type": "markdown",
      "metadata": {
        "id": "fOZBheyxpjL0"
      },
      "source": [
        "## Bagian 3: Buat file Output JSON\n",
        "\n",
        "Menggunakan modul JSON, format list dictionary Anda sebagai JSON"
      ]
    },
    {
      "cell_type": "code",
      "execution_count": null,
      "metadata": {
        "colab": {
          "base_uri": "https://localhost:8080/"
        },
        "id": "d67nYdWe88ky",
        "outputId": "2b012e89-e81d-4578-aeea-b5d9aec8dba2"
      },
      "outputs": [
        {
          "output_type": "stream",
          "name": "stdout",
          "text": [
            "Data telah disimpan dalam file JSON: output.json\n"
          ]
        }
      ],
      "source": [
        "import json\n",
        "\n",
        "# Bagian 3: Buat file Output JSON\n",
        "def simpan_ke_json(data_part1, data_daerah, nama_file):\n",
        "    with open(nama_file, 'w') as berkas_json:\n",
        "        json.dump({'hasil_part1': data_part1, 'rata_rata_daerah': data_daerah}, berkas_json, indent=4)\n",
        "\n",
        "# Path untuk menyimpan file JSON\n",
        "path_output_json = \"output.json\"\n",
        "\n",
        "# Simpan data ke dalam file JSON\n",
        "simpan_ke_json(hasil_part1, rata_rata_daerah, path_output_json)\n",
        "\n",
        "print(\"Data telah disimpan dalam file JSON:\", path_output_json)\n"
      ]
    }
  ],
  "metadata": {
    "colab": {
      "provenance": []
    },
    "kernelspec": {
      "display_name": "Python 3",
      "language": "python",
      "name": "python3"
    },
    "language_info": {
      "name": "python",
      "version": "3.11.9"
    }
  },
  "nbformat": 4,
  "nbformat_minor": 0
}