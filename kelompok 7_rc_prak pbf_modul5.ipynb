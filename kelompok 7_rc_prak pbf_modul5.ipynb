{
  "cells": [
    {
      "cell_type": "code",
      "execution_count": null,
      "metadata": {
        "colab": {
          "base_uri": "https://localhost:8080/"
        },
        "id": "Po-tmlJurbEn",
        "outputId": "f83cc37b-41c7-452d-9e19-d43f2786a561"
      },
      "outputs": [
        {
          "output_type": "stream",
          "name": "stdout",
          "text": [
            "jazz\n"
          ]
        }
      ],
      "source": [
        "from functools import lru_cache\n",
        "\n",
        "# Menambahkan kata-kata baru ke dalam dictionary\n",
        "dictionary = [\n",
        "    \"apple\", \"pie\", \"pear\", \"bear\", \"ant\", \"bee\", \"gorilla\", \"fox\", \"giraffe\",\n",
        "    \"zebra\", \"quartz\", \"jazz\", \"quiz\"\n",
        "]\n",
        "\n",
        "# Memperbarui skor untuk setiap huruf termasuk huruf yang baru\n",
        "scores = {\n",
        "    \"a\": 1, \"p\": 3, \"l\": 1, \"e\": 1, \"i\": 1, \"r\": 1, \"b\": 3, \"n\": 4, \"t\": 1,\n",
        "    \"g\": 2, \"o\": 1, \"f\": 4, \"x\": 8, \"z\": 10, \"q\": 10, \"u\": 1, \"j\": 8\n",
        "}\n",
        "\n",
        "def menghitung_score(kata):\n",
        "    return sum(scores.get(char, 0) for char in kata)\n",
        "\n",
        "# Menggunakan decorator untuk memoization\n",
        "@lru_cache(maxsize=None)\n",
        "def mencari_kata_terbaik(kata):\n",
        "    skor_terbaik = 0\n",
        "    kata_terbaik = None\n",
        "    paket_kata = frozenset(kata)\n",
        "\n",
        "    for kata in dictionary:\n",
        "        if frozenset(kata).issubset(paket_kata):\n",
        "            score = menghitung_score(kata)\n",
        "            if score > skor_terbaik:\n",
        "                skor_terbaik = score\n",
        "                kata_terbaik = kata\n",
        "\n",
        "    return kata_terbaik\n",
        "\n",
        "# Membuat contoh kata yang mencakup huruf untuk beberapa kata baru termasuk kata-kata dengan skor tinggi\n",
        "kata = \"qzjxpuiebfarlgto\"\n",
        "print(mencari_kata_terbaik(kata))  # Output yang diharapkan dapat bervariasi seperti \"quartz\" atau \"quiz\"\n"
      ]
    }
  ],
  "metadata": {
    "colab": {
      "provenance": []
    },
    "kernelspec": {
      "display_name": "Python 3",
      "name": "python3"
    },
    "language_info": {
      "name": "python"
    }
  },
  "nbformat": 4,
  "nbformat_minor": 0
}