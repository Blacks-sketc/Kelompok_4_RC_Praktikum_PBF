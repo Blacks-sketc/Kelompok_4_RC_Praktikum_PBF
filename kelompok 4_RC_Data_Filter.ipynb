{
  "nbformat": 4,
  "nbformat_minor": 0,
  "metadata": {
    "colab": {
      "provenance": []
    },
    "kernelspec": {
      "name": "python3",
      "display_name": "Python 3"
    },
    "language_info": {
      "name": "python"
    }
  },
  "cells": [
    {
      "cell_type": "code",
      "source": [
        "import pandas as pd\n",
        "\n",
        "# Data film Judul, Genre, dan Usia Minimum Film\n",
        "data_film_genre_usia = pd.DataFrame({\n",
        "    \"Judul Film\": [\"The Batman\", \"Turning Red\", \"Doctor Strange in the Multiverse of Madness\",\n",
        "                   \"Lightyear\", \"Jurassic World Dominion\", \"Godzila X Kong: The New Empire\",\n",
        "                   \"The First Omen\", \"Siksa Kubur\", \"Exhuma\", \"Ronggeng Kematian\", \"Kung Fu Panda 4\",\n",
        "                   \"The Sin\", \"Fast CHarlie\", \"Ghostbusters: Frozen Empire\", \"Agak Laen\"],\n",
        "    \"Genre Film\": [\"Action, Crime\", \"Comedy, Adventure\", \"Action, Adventure, Fantasy\",\n",
        "                   \"Adventure, Animation, Science Fiction\", \"Action, Adventure, Science Fiction\",\n",
        "                   \"Action, Science Fiction\", \"Horor\", \"Horor, Religi\", \"Horor\", \"Horor\", \"Animation, Adventure\",\n",
        "                   \"Horor\", \"Action, Crime\", \"Adventure, Fantasy\", \"Comedy\"],\n",
        "    \"Usia Minimum Film\": [13, 7, 12, 7, 13, 0, 17, 13, 17, 0, 17, 17, 0, 13, 0]\n",
        "})\n",
        "\n",
        "# Membuat Filter data film berdasarkan usia untuk dewasa\n",
        "batasan_usia_min_dewasa = 13\n",
        "batasan_usia_max_dewasa = 65\n",
        "filter_usia_dewasa = filter_usia(batasan_usia_min_dewasa, batasan_usia_max_dewasa)\n",
        "Rekomendasi_film_untuk_usia_dewasa = filter_usia_dewasa(data_film_genre_usia.copy())\n",
        "\n",
        "# Membuat Filter data film berdasarkan usia untuk anak-anak\n",
        "batasan_usia_min_anak_anak = 0\n",
        "batasan_usia_max_anak_anak = 12\n",
        "filter_usia_anak_anak = filter_usia(batasan_usia_min_anak_anak, batasan_usia_max_anak_anak)\n",
        "Rekomendasi_film_untuk_usia_anak_anak = filter_usia_anak_anak(data_film_genre_usia.copy())\n",
        "\n",
        "# Tampilkan hasil untuk Filter usia dewasa dan Anak-anak\n",
        "print(\"Rekomendasi Film untuk usia dewasa:\")\n",
        "print(Rekomendasi_film_untuk_usia_dewasa)\n",
        "\n",
        "print(\"\\nRekomendasi Film untuk usia anak-anak:\")\n",
        "print(Rekomendasi_film_untuk_usia_anak_anak)"
      ],
      "metadata": {
        "colab": {
          "base_uri": "https://localhost:8080/"
        },
        "id": "p11Z4ujwnLjA",
        "outputId": "8721a58f-ec33-4f02-c832-df7b2310c918"
      },
      "execution_count": null,
      "outputs": [
        {
          "output_type": "stream",
          "name": "stdout",
          "text": [
            "Rekomendasi Film untuk usia dewasa:\n",
            "                     Judul Film                          Genre Film  \\\n",
            "0                    The Batman                       Action, Crime   \n",
            "4       Jurassic World Dominion  Action, Adventure, Science Fiction   \n",
            "6                The First Omen                               Horor   \n",
            "7                   Siksa Kubur                       Horor, Religi   \n",
            "8                        Exhuma                               Horor   \n",
            "10              Kung Fu Panda 4                Animation, Adventure   \n",
            "11                      The Sin                               Horor   \n",
            "13  Ghostbusters: Frozen Empire                  Adventure, Fantasy   \n",
            "\n",
            "    Usia Minimum Film  \n",
            "0                  13  \n",
            "4                  13  \n",
            "6                  17  \n",
            "7                  13  \n",
            "8                  17  \n",
            "10                 17  \n",
            "11                 17  \n",
            "13                 13  \n",
            "\n",
            "Rekomendasi Film untuk usia anak-anak:\n",
            "                                     Judul Film  \\\n",
            "1                                   Turning Red   \n",
            "2   Doctor Strange in the Multiverse of Madness   \n",
            "3                                     Lightyear   \n",
            "5                Godzila X Kong: The New Empire   \n",
            "9                             Ronggeng Kematian   \n",
            "12                                 Fast CHarlie   \n",
            "14                                    Agak Laen   \n",
            "\n",
            "                               Genre Film  Usia Minimum Film  \n",
            "1                       Comedy, Adventure                  7  \n",
            "2              Action, Adventure, Fantasy                 12  \n",
            "3   Adventure, Animation, Science Fiction                  7  \n",
            "5                 Action, Science Fiction                  0  \n",
            "9                                   Horor                  0  \n",
            "12                          Action, Crime                  0  \n",
            "14                                 Comedy                  0  \n"
          ]
        }
      ]
    },
    {
      "cell_type": "markdown",
      "source": [],
      "metadata": {
        "id": "Nnzk18Lps-Sx"
      }
    }
  ]
}